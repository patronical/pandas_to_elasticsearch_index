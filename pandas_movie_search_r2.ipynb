{
 "cells": [
  {
   "cell_type": "markdown",
   "metadata": {},
   "source": [
    "## Movie Search"
   ]
  },
  {
   "cell_type": "code",
   "execution_count": 1,
   "metadata": {},
   "outputs": [],
   "source": [
    "import zipfile\n",
    "import json\n",
    "import pandas as pd\n",
    "import numpy as np\n",
    "\n",
    "from tqdm import tqdm_notebook\n",
    "from datetime import datetime\n",
    "from elasticsearch import Elasticsearch\n",
    "from elasticsearch import helpers\n",
    "\n",
    "import boto3\n",
    "from elasticsearch import RequestsHttpConnection\n",
    "from requests_aws4auth import AWS4Auth"
   ]
  },
  {
   "cell_type": "markdown",
   "metadata": {},
   "source": [
    "### AWS elasticsearch"
   ]
  },
  {
   "cell_type": "code",
   "execution_count": 62,
   "metadata": {},
   "outputs": [],
   "source": [
    "# Local Elasticsearch\n",
    "# Use this or else AWS blocks below\n",
    "# connects to port 9300 by default\n",
    "es = Elasticsearch()"
   ]
  },
  {
   "cell_type": "code",
   "execution_count": 8,
   "metadata": {},
   "outputs": [
    {
     "name": "stdout",
     "output_type": "stream",
     "text": [
      "{'name': 'MJtp04b', 'cluster_name': '634195893235:movies', 'cluster_uuid': 'ymqDfLcWQkGDXG-otApe-A', 'version': {'number': '6.3.1', 'build_flavor': 'oss', 'build_type': 'zip', 'build_hash': 'eb782d0', 'build_date': '2018-09-11T14:05:25.216906Z', 'build_snapshot': False, 'lucene_version': '7.3.1', 'minimum_wire_compatibility_version': '5.6.0', 'minimum_index_compatibility_version': '5.0.0'}, 'tagline': 'You Know, for Search'}\n"
     ]
    }
   ],
   "source": [
    "# AWS Elasticsearch\n",
    "# Don't run this if local version is being used\n",
    "# Authorization\n",
    "# If we have an open policy on AWS ES this block is not needed and http_auth must be commented out below\n",
    "region = 'us-west-2' \n",
    "service = 'es'\n",
    "#Credentials calls the user keys identified from aws-cli command aws configure\n",
    "credentials = boto3.Session().get_credentials()\n",
    "awsauth = AWS4Auth(credentials.access_key, credentials.secret_key, region, service, session_token=credentials.token)\n",
    "\n",
    "#Create ES Connection with AWS\n",
    "#AWS ES endpoint link\n",
    "host = 'put your aws elasticsearch endpoint here'\n",
    "\n",
    "es = Elasticsearch(\n",
    "    hosts=[{'host': host, 'port': 443}],\n",
    "    http_auth=awsauth,\n",
    "    use_ssl=True,\n",
    "    verify_certs=True,\n",
    "    connection_class=RequestsHttpConnection\n",
    ")\n",
    "print(es.info())"
   ]
  },
  {
   "cell_type": "code",
   "execution_count": 63,
   "metadata": {},
   "outputs": [
    {
     "data": {
      "text/plain": [
       "{'cluster_name': 'elasticsearch',\n",
       " 'status': 'yellow',\n",
       " 'timed_out': False,\n",
       " 'number_of_nodes': 1,\n",
       " 'number_of_data_nodes': 1,\n",
       " 'active_primary_shards': 26,\n",
       " 'active_shards': 26,\n",
       " 'relocating_shards': 0,\n",
       " 'initializing_shards': 0,\n",
       " 'unassigned_shards': 25,\n",
       " 'delayed_unassigned_shards': 0,\n",
       " 'number_of_pending_tasks': 0,\n",
       " 'number_of_in_flight_fetch': 0,\n",
       " 'task_max_waiting_in_queue_millis': 0,\n",
       " 'active_shards_percent_as_number': 50.98039215686274}"
      ]
     },
     "execution_count": 63,
     "metadata": {},
     "output_type": "execute_result"
    }
   ],
   "source": [
    "#Check Cluster Health\n",
    "es.cluster.health()"
   ]
  },
  {
   "cell_type": "code",
   "execution_count": 10,
   "metadata": {},
   "outputs": [
    {
     "data": {
      "text/plain": [
       "'yellow open df1     f9yaHDIhSpqrK1a_GGX6pQ 5 1 1000 0  1.2mb  1.2mb\\nyellow open df4     jnSJXJxJQKivv9eiivS9Tg 5 1 1000 0  1.3mb  1.3mb\\nyellow open df3     hMg5Tg_5T8mTEL0nhq7DEg 5 1 1000 0  1.2mb  1.2mb\\nyellow open df2     s29bB2JnQOi37AdW5HDbmg 5 1 1000 0  1.2mb  1.2mb\\nyellow open df5     FEr4PYfsR1G8lUYxGmwU9A 5 1 1000 0  1.4mb  1.4mb\\ngreen  open .kibana WbySMBDlS5qZ8rzIJPm96A 1 0    6 0 33.2kb 33.2kb\\nyellow open movies  LDYQOMNNQhOgpiJ2hsN6NQ 5 1 5000 0  5.4mb  5.4mb\\n'"
      ]
     },
     "execution_count": 10,
     "metadata": {},
     "output_type": "execute_result"
    }
   ],
   "source": [
    "# Index Info\n",
    "es.cat.indices()"
   ]
  },
  {
   "cell_type": "markdown",
   "metadata": {},
   "source": [
    "### Search Elasticsearch Cluster"
   ]
  },
  {
   "cell_type": "code",
   "execution_count": 51,
   "metadata": {},
   "outputs": [],
   "source": [
    "# Search Result Dictionary\n",
    "search_dict = es.search(index = ['df1','df2','df3','df3', 'df5'], q='thor')"
   ]
  },
  {
   "cell_type": "code",
   "execution_count": 52,
   "metadata": {},
   "outputs": [
    {
     "data": {
      "text/plain": [
       "7"
      ]
     },
     "execution_count": 52,
     "metadata": {},
     "output_type": "execute_result"
    }
   ],
   "source": [
    "len(search_dict['hits']['hits'])"
   ]
  },
  {
   "cell_type": "code",
   "execution_count": 55,
   "metadata": {},
   "outputs": [],
   "source": [
    "search_list = [k['_source'] for k in search_dict['hits']['hits']]"
   ]
  },
  {
   "cell_type": "code",
   "execution_count": 58,
   "metadata": {},
   "outputs": [
    {
     "data": {
      "text/html": [
       "<div>\n",
       "<style scoped>\n",
       "    .dataframe tbody tr th:only-of-type {\n",
       "        vertical-align: middle;\n",
       "    }\n",
       "\n",
       "    .dataframe tbody tr th {\n",
       "        vertical-align: top;\n",
       "    }\n",
       "\n",
       "    .dataframe thead th {\n",
       "        text-align: right;\n",
       "    }\n",
       "</style>\n",
       "<table border=\"1\" class=\"dataframe\">\n",
       "  <thead>\n",
       "    <tr style=\"text-align: right;\">\n",
       "      <th></th>\n",
       "      <th>title</th>\n",
       "      <th>year</th>\n",
       "      <th>rating</th>\n",
       "      <th>rank</th>\n",
       "      <th>genres</th>\n",
       "      <th>plot</th>\n",
       "      <th>directors</th>\n",
       "      <th>actors</th>\n",
       "      <th>release_date</th>\n",
       "      <th>running_time_secs</th>\n",
       "      <th>image_url</th>\n",
       "    </tr>\n",
       "  </thead>\n",
       "  <tbody>\n",
       "    <tr>\n",
       "      <th>0</th>\n",
       "      <td>Thor</td>\n",
       "      <td>2011</td>\n",
       "      <td>7.0</td>\n",
       "      <td>135</td>\n",
       "      <td>[Action, Adventure, Fantasy]</td>\n",
       "      <td>The powerful but arrogant god Thor is cast out...</td>\n",
       "      <td>[Kenneth Branagh, Joss Whedon]</td>\n",
       "      <td>[Chris Hemsworth, Anthony Hopkins, Natalie Por...</td>\n",
       "      <td>2011-04-21</td>\n",
       "      <td>6900</td>\n",
       "      <td>http://ia.media-imdb.com/images/M/MV5BMTYxMjA5...</td>\n",
       "    </tr>\n",
       "    <tr>\n",
       "      <th>1</th>\n",
       "      <td>Vikingdom</td>\n",
       "      <td>2013</td>\n",
       "      <td>5.0</td>\n",
       "      <td>602</td>\n",
       "      <td>[Adventure]</td>\n",
       "      <td>A forgotten king, Eirick, is tasked with the i...</td>\n",
       "      <td>[Yusry Abd Halim]</td>\n",
       "      <td>[Dominic Purcell, Natassia Malthe, Conan Stevens]</td>\n",
       "      <td>2013-09-12</td>\n",
       "      <td>0</td>\n",
       "      <td>http://ia.media-imdb.com/images/M/MV5BMTYxODY5...</td>\n",
       "    </tr>\n",
       "    <tr>\n",
       "      <th>2</th>\n",
       "      <td>Percy Jackson: Sea of Monsters</td>\n",
       "      <td>2013</td>\n",
       "      <td>6.5</td>\n",
       "      <td>85</td>\n",
       "      <td>[Adventure, Family, Fantasy]</td>\n",
       "      <td>In order to restore their dying safe haven, th...</td>\n",
       "      <td>[Thor Freudenthal]</td>\n",
       "      <td>[Logan Lerman, Alexandra Daddario, Brandon T. ...</td>\n",
       "      <td>2013-08-07</td>\n",
       "      <td>6360</td>\n",
       "      <td>http://ia.media-imdb.com/images/M/MV5BMTUwODUy...</td>\n",
       "    </tr>\n",
       "    <tr>\n",
       "      <th>3</th>\n",
       "      <td>Diary of a Wimpy Kid</td>\n",
       "      <td>2010</td>\n",
       "      <td>6.1</td>\n",
       "      <td>1665</td>\n",
       "      <td>[Comedy, Family]</td>\n",
       "      <td>Live-action adaptation of Jeff Kinney's illust...</td>\n",
       "      <td>[Thor Freudenthal]</td>\n",
       "      <td>[Zachary Gordon, Robert Capron, Rachael Harris]</td>\n",
       "      <td>2010-03-18</td>\n",
       "      <td>5640</td>\n",
       "      <td>http://ia.media-imdb.com/images/M/MV5BMTg3NzQ2...</td>\n",
       "    </tr>\n",
       "    <tr>\n",
       "      <th>4</th>\n",
       "      <td>Hotel for Dogs</td>\n",
       "      <td>2009</td>\n",
       "      <td>5.1</td>\n",
       "      <td>4536</td>\n",
       "      <td>[Comedy, Family]</td>\n",
       "      <td>Two kids secretly take in stray dogs at a vaca...</td>\n",
       "      <td>[Thor Freudenthal]</td>\n",
       "      <td>[Emma Roberts, Jake T. Austin, Lisa Kudrow]</td>\n",
       "      <td>2009-01-15</td>\n",
       "      <td>6000</td>\n",
       "      <td>http://ia.media-imdb.com/images/M/MV5BMTI5Njkx...</td>\n",
       "    </tr>\n",
       "    <tr>\n",
       "      <th>5</th>\n",
       "      <td>Kon-Tiki</td>\n",
       "      <td>2012</td>\n",
       "      <td>7.2</td>\n",
       "      <td>1026</td>\n",
       "      <td>[Adventure, History]</td>\n",
       "      <td>Legendary explorer Thor Heyerdal's epic 4,300-...</td>\n",
       "      <td>[Joachim Rønning, Espen Sandberg]</td>\n",
       "      <td>[Pål Sverre Hagen, Anders Baasmo Christiansen,...</td>\n",
       "      <td>2012-08-18</td>\n",
       "      <td>7080</td>\n",
       "      <td>http://ia.media-imdb.com/images/M/MV5BMjMxOTU2...</td>\n",
       "    </tr>\n",
       "    <tr>\n",
       "      <th>6</th>\n",
       "      <td>Thor: The Dark World</td>\n",
       "      <td>2013</td>\n",
       "      <td>0.0</td>\n",
       "      <td>5</td>\n",
       "      <td>[Action, Adventure, Fantasy]</td>\n",
       "      <td>Faced with an enemy that even Odin and Asgard ...</td>\n",
       "      <td>[Alan Taylor]</td>\n",
       "      <td>[Chris Hemsworth, Natalie Portman, Tom Hiddles...</td>\n",
       "      <td>2013-10-30</td>\n",
       "      <td>0</td>\n",
       "      <td>http://ia.media-imdb.com/images/M/MV5BMTQyNzAw...</td>\n",
       "    </tr>\n",
       "  </tbody>\n",
       "</table>\n",
       "</div>"
      ],
      "text/plain": [
       "                            title  year  rating  rank  \\\n",
       "0                            Thor  2011     7.0   135   \n",
       "1                       Vikingdom  2013     5.0   602   \n",
       "2  Percy Jackson: Sea of Monsters  2013     6.5    85   \n",
       "3            Diary of a Wimpy Kid  2010     6.1  1665   \n",
       "4                  Hotel for Dogs  2009     5.1  4536   \n",
       "5                        Kon-Tiki  2012     7.2  1026   \n",
       "6            Thor: The Dark World  2013     0.0     5   \n",
       "\n",
       "                         genres  \\\n",
       "0  [Action, Adventure, Fantasy]   \n",
       "1                   [Adventure]   \n",
       "2  [Adventure, Family, Fantasy]   \n",
       "3              [Comedy, Family]   \n",
       "4              [Comedy, Family]   \n",
       "5          [Adventure, History]   \n",
       "6  [Action, Adventure, Fantasy]   \n",
       "\n",
       "                                                plot  \\\n",
       "0  The powerful but arrogant god Thor is cast out...   \n",
       "1  A forgotten king, Eirick, is tasked with the i...   \n",
       "2  In order to restore their dying safe haven, th...   \n",
       "3  Live-action adaptation of Jeff Kinney's illust...   \n",
       "4  Two kids secretly take in stray dogs at a vaca...   \n",
       "5  Legendary explorer Thor Heyerdal's epic 4,300-...   \n",
       "6  Faced with an enemy that even Odin and Asgard ...   \n",
       "\n",
       "                           directors  \\\n",
       "0     [Kenneth Branagh, Joss Whedon]   \n",
       "1                  [Yusry Abd Halim]   \n",
       "2                 [Thor Freudenthal]   \n",
       "3                 [Thor Freudenthal]   \n",
       "4                 [Thor Freudenthal]   \n",
       "5  [Joachim Rønning, Espen Sandberg]   \n",
       "6                      [Alan Taylor]   \n",
       "\n",
       "                                              actors release_date  \\\n",
       "0  [Chris Hemsworth, Anthony Hopkins, Natalie Por...   2011-04-21   \n",
       "1  [Dominic Purcell, Natassia Malthe, Conan Stevens]   2013-09-12   \n",
       "2  [Logan Lerman, Alexandra Daddario, Brandon T. ...   2013-08-07   \n",
       "3    [Zachary Gordon, Robert Capron, Rachael Harris]   2010-03-18   \n",
       "4        [Emma Roberts, Jake T. Austin, Lisa Kudrow]   2009-01-15   \n",
       "5  [Pål Sverre Hagen, Anders Baasmo Christiansen,...   2012-08-18   \n",
       "6  [Chris Hemsworth, Natalie Portman, Tom Hiddles...   2013-10-30   \n",
       "\n",
       "   running_time_secs                                          image_url  \n",
       "0               6900  http://ia.media-imdb.com/images/M/MV5BMTYxMjA5...  \n",
       "1                  0  http://ia.media-imdb.com/images/M/MV5BMTYxODY5...  \n",
       "2               6360  http://ia.media-imdb.com/images/M/MV5BMTUwODUy...  \n",
       "3               5640  http://ia.media-imdb.com/images/M/MV5BMTg3NzQ2...  \n",
       "4               6000  http://ia.media-imdb.com/images/M/MV5BMTI5Njkx...  \n",
       "5               7080  http://ia.media-imdb.com/images/M/MV5BMjMxOTU2...  \n",
       "6                  0  http://ia.media-imdb.com/images/M/MV5BMTQyNzAw...  "
      ]
     },
     "execution_count": 58,
     "metadata": {},
     "output_type": "execute_result"
    }
   ],
   "source": [
    "df_search = pd.DataFrame(search_list, columns=search_list[0].keys())\n",
    "df_search"
   ]
  },
  {
   "cell_type": "code",
   "execution_count": null,
   "metadata": {},
   "outputs": [],
   "source": []
  }
 ],
 "metadata": {
  "kernelspec": {
   "display_name": "Python 3",
   "language": "python",
   "name": "python3"
  },
  "language_info": {
   "codemirror_mode": {
    "name": "ipython",
    "version": 3
   },
   "file_extension": ".py",
   "mimetype": "text/x-python",
   "name": "python",
   "nbconvert_exporter": "python",
   "pygments_lexer": "ipython3",
   "version": "3.6.6"
  }
 },
 "nbformat": 4,
 "nbformat_minor": 2
}
