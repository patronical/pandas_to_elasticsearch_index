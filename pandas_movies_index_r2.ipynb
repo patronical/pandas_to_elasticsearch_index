{
 "cells": [
  {
   "cell_type": "markdown",
   "metadata": {},
   "source": [
    "## Movie Indexing"
   ]
  },
  {
   "cell_type": "code",
   "execution_count": 1,
   "metadata": {},
   "outputs": [],
   "source": [
    "import zipfile\n",
    "import json\n",
    "import pandas as pd\n",
    "import numpy as np\n",
    "\n",
    "from tqdm import tqdm_notebook\n",
    "from datetime import datetime\n",
    "from elasticsearch import Elasticsearch\n",
    "from elasticsearch import helpers\n",
    "\n",
    "import boto3\n",
    "#from botocore.vendored import requests\n",
    "#import requests\n",
    "from elasticsearch import RequestsHttpConnection\n",
    "from requests_aws4auth import AWS4Auth"
   ]
  },
  {
   "cell_type": "code",
   "execution_count": 2,
   "metadata": {},
   "outputs": [],
   "source": [
    "df_movie = pd.read_csv('panda_movies_r1.csv')"
   ]
  },
  {
   "cell_type": "code",
   "execution_count": 3,
   "metadata": {},
   "outputs": [
    {
     "data": {
      "text/html": [
       "<div>\n",
       "<style scoped>\n",
       "    .dataframe tbody tr th:only-of-type {\n",
       "        vertical-align: middle;\n",
       "    }\n",
       "\n",
       "    .dataframe tbody tr th {\n",
       "        vertical-align: top;\n",
       "    }\n",
       "\n",
       "    .dataframe thead th {\n",
       "        text-align: right;\n",
       "    }\n",
       "</style>\n",
       "<table border=\"1\" class=\"dataframe\">\n",
       "  <thead>\n",
       "    <tr style=\"text-align: right;\">\n",
       "      <th></th>\n",
       "      <th>title</th>\n",
       "      <th>year</th>\n",
       "      <th>rating</th>\n",
       "      <th>rank</th>\n",
       "      <th>genres</th>\n",
       "      <th>plot</th>\n",
       "      <th>directors</th>\n",
       "      <th>actors</th>\n",
       "      <th>release_date</th>\n",
       "      <th>running_time_secs</th>\n",
       "      <th>image_url</th>\n",
       "    </tr>\n",
       "  </thead>\n",
       "  <tbody>\n",
       "    <tr>\n",
       "      <th>0</th>\n",
       "      <td>(500) Days of Summer</td>\n",
       "      <td>2009</td>\n",
       "      <td>7.8</td>\n",
       "      <td>269</td>\n",
       "      <td>['Comedy', 'Drama', 'Romance']</td>\n",
       "      <td>An offbeat romantic comedy about a woman who d...</td>\n",
       "      <td>['Marc Webb']</td>\n",
       "      <td>['Zooey Deschanel', 'Joseph Gordon-Levitt', 'G...</td>\n",
       "      <td>2009-01-17</td>\n",
       "      <td>5700</td>\n",
       "      <td>http://ia.media-imdb.com/images/M/MV5BMTk5MjM4...</td>\n",
       "    </tr>\n",
       "    <tr>\n",
       "      <th>1</th>\n",
       "      <td>+1</td>\n",
       "      <td>2013</td>\n",
       "      <td>5.6</td>\n",
       "      <td>401</td>\n",
       "      <td>['Sci-Fi', 'Thriller']</td>\n",
       "      <td>Three college friends hit the biggest party of...</td>\n",
       "      <td>['Dennis Iliadis']</td>\n",
       "      <td>['Rhys Wakefield', 'Logan Miller', 'Ashley Hin...</td>\n",
       "      <td>2013-03-10</td>\n",
       "      <td>5700</td>\n",
       "      <td>http://ia.media-imdb.com/images/M/MV5BMTQwOTA5...</td>\n",
       "    </tr>\n",
       "    <tr>\n",
       "      <th>2</th>\n",
       "      <td>10</td>\n",
       "      <td>1979</td>\n",
       "      <td>5.9</td>\n",
       "      <td>2862</td>\n",
       "      <td>['Comedy', 'Romance']</td>\n",
       "      <td>A Hollywood songwriter goes through a mid-life...</td>\n",
       "      <td>['Blake Edwards']</td>\n",
       "      <td>['Dudley Moore', 'Bo Derek', 'Julie Andrews']</td>\n",
       "      <td>1979-10-05</td>\n",
       "      <td>7320</td>\n",
       "      <td>http://ia.media-imdb.com/images/M/MV5BMTg1NDQ1...</td>\n",
       "    </tr>\n",
       "    <tr>\n",
       "      <th>3</th>\n",
       "      <td>10 Items or Less</td>\n",
       "      <td>2006</td>\n",
       "      <td>6.6</td>\n",
       "      <td>4401</td>\n",
       "      <td>['Comedy', 'Drama', 'Romance']</td>\n",
       "      <td>An actor (Freeman) prepping for an upcoming ro...</td>\n",
       "      <td>['Brad Silberling']</td>\n",
       "      <td>['Morgan Freeman', 'Paz Vega', 'Jonah Hill']</td>\n",
       "      <td>2006-09-11</td>\n",
       "      <td>4920</td>\n",
       "      <td>http://ia.media-imdb.com/images/M/MV5BMTI1MTU4...</td>\n",
       "    </tr>\n",
       "    <tr>\n",
       "      <th>4</th>\n",
       "      <td>10 Rillington Place</td>\n",
       "      <td>1971</td>\n",
       "      <td>7.5</td>\n",
       "      <td>2605</td>\n",
       "      <td>['Biography', 'Crime', 'Drama', 'Horror', 'Thr...</td>\n",
       "      <td>NaN</td>\n",
       "      <td>['Richard Fleischer']</td>\n",
       "      <td>['Richard Attenborough', 'Judy Geeson', 'John ...</td>\n",
       "      <td>1971-02-10</td>\n",
       "      <td>6660</td>\n",
       "      <td>http://ia.media-imdb.com/images/M/MV5BMTc4MzM5...</td>\n",
       "    </tr>\n",
       "  </tbody>\n",
       "</table>\n",
       "</div>"
      ],
      "text/plain": [
       "                  title  year  rating  rank  \\\n",
       "0  (500) Days of Summer  2009     7.8   269   \n",
       "1                    +1  2013     5.6   401   \n",
       "2                    10  1979     5.9  2862   \n",
       "3      10 Items or Less  2006     6.6  4401   \n",
       "4   10 Rillington Place  1971     7.5  2605   \n",
       "\n",
       "                                              genres  \\\n",
       "0                     ['Comedy', 'Drama', 'Romance']   \n",
       "1                             ['Sci-Fi', 'Thriller']   \n",
       "2                              ['Comedy', 'Romance']   \n",
       "3                     ['Comedy', 'Drama', 'Romance']   \n",
       "4  ['Biography', 'Crime', 'Drama', 'Horror', 'Thr...   \n",
       "\n",
       "                                                plot              directors  \\\n",
       "0  An offbeat romantic comedy about a woman who d...          ['Marc Webb']   \n",
       "1  Three college friends hit the biggest party of...     ['Dennis Iliadis']   \n",
       "2  A Hollywood songwriter goes through a mid-life...      ['Blake Edwards']   \n",
       "3  An actor (Freeman) prepping for an upcoming ro...    ['Brad Silberling']   \n",
       "4                                                NaN  ['Richard Fleischer']   \n",
       "\n",
       "                                              actors release_date  \\\n",
       "0  ['Zooey Deschanel', 'Joseph Gordon-Levitt', 'G...   2009-01-17   \n",
       "1  ['Rhys Wakefield', 'Logan Miller', 'Ashley Hin...   2013-03-10   \n",
       "2      ['Dudley Moore', 'Bo Derek', 'Julie Andrews']   1979-10-05   \n",
       "3       ['Morgan Freeman', 'Paz Vega', 'Jonah Hill']   2006-09-11   \n",
       "4  ['Richard Attenborough', 'Judy Geeson', 'John ...   1971-02-10   \n",
       "\n",
       "   running_time_secs                                          image_url  \n",
       "0               5700  http://ia.media-imdb.com/images/M/MV5BMTk5MjM4...  \n",
       "1               5700  http://ia.media-imdb.com/images/M/MV5BMTQwOTA5...  \n",
       "2               7320  http://ia.media-imdb.com/images/M/MV5BMTg1NDQ1...  \n",
       "3               4920  http://ia.media-imdb.com/images/M/MV5BMTI1MTU4...  \n",
       "4               6660  http://ia.media-imdb.com/images/M/MV5BMTc4MzM5...  "
      ]
     },
     "execution_count": 3,
     "metadata": {},
     "output_type": "execute_result"
    }
   ],
   "source": [
    "df_movie.head()"
   ]
  },
  {
   "cell_type": "code",
   "execution_count": 4,
   "metadata": {},
   "outputs": [
    {
     "name": "stdout",
     "output_type": "stream",
     "text": [
      "<class 'pandas.core.frame.DataFrame'>\n",
      "RangeIndex: 1000 entries, 4000 to 4999\n",
      "Data columns (total 11 columns):\n",
      "title                1000 non-null object\n",
      "year                 1000 non-null int64\n",
      "rating               1000 non-null float64\n",
      "rank                 1000 non-null int64\n",
      "genres               1000 non-null object\n",
      "plot                 906 non-null object\n",
      "directors            993 non-null object\n",
      "actors               995 non-null object\n",
      "release_date         1000 non-null object\n",
      "running_time_secs    1000 non-null int64\n",
      "image_url            944 non-null object\n",
      "dtypes: float64(1), int64(3), object(7)\n",
      "memory usage: 86.0+ KB\n"
     ]
    }
   ],
   "source": [
    "#subsection dataframe\n",
    "df1= df_movie.iloc[0:1000]\n",
    "df2= df_movie.iloc[1000:2000]\n",
    "df3= df_movie.iloc[2000:3000]\n",
    "df4= df_movie.iloc[3000:4000]\n",
    "df5= df_movie.iloc[4000:5000]\n",
    "df5.info()"
   ]
  },
  {
   "cell_type": "code",
   "execution_count": 5,
   "metadata": {},
   "outputs": [
    {
     "data": {
      "text/html": [
       "<div>\n",
       "<style scoped>\n",
       "    .dataframe tbody tr th:only-of-type {\n",
       "        vertical-align: middle;\n",
       "    }\n",
       "\n",
       "    .dataframe tbody tr th {\n",
       "        vertical-align: top;\n",
       "    }\n",
       "\n",
       "    .dataframe thead th {\n",
       "        text-align: right;\n",
       "    }\n",
       "</style>\n",
       "<table border=\"1\" class=\"dataframe\">\n",
       "  <thead>\n",
       "    <tr style=\"text-align: right;\">\n",
       "      <th></th>\n",
       "      <th>title</th>\n",
       "      <th>year</th>\n",
       "      <th>rating</th>\n",
       "      <th>rank</th>\n",
       "      <th>genres</th>\n",
       "      <th>plot</th>\n",
       "      <th>directors</th>\n",
       "      <th>actors</th>\n",
       "      <th>release_date</th>\n",
       "      <th>running_time_secs</th>\n",
       "      <th>image_url</th>\n",
       "    </tr>\n",
       "  </thead>\n",
       "  <tbody>\n",
       "    <tr>\n",
       "      <th>4995</th>\n",
       "      <td>À bout de souffle</td>\n",
       "      <td>1960</td>\n",
       "      <td>7.9</td>\n",
       "      <td>3521</td>\n",
       "      <td>['Crime', 'Drama']</td>\n",
       "      <td>A young car thief kills a policeman and tries ...</td>\n",
       "      <td>['Jean-Luc Godard']</td>\n",
       "      <td>['Jean-Paul Belmondo', 'Jean Seberg', 'Daniel ...</td>\n",
       "      <td>1960-03-16</td>\n",
       "      <td>5400</td>\n",
       "      <td>http://ia.media-imdb.com/images/M/MV5BMTI4MDUw...</td>\n",
       "    </tr>\n",
       "    <tr>\n",
       "      <th>4996</th>\n",
       "      <td>À bout portant</td>\n",
       "      <td>2010</td>\n",
       "      <td>6.8</td>\n",
       "      <td>4937</td>\n",
       "      <td>['Action', 'Crime', 'Thriller']</td>\n",
       "      <td>NaN</td>\n",
       "      <td>['Fred Cavayé']</td>\n",
       "      <td>['Gilles Lellouche', 'Roschdy Zem', 'Gérard La...</td>\n",
       "      <td>2010-11-04</td>\n",
       "      <td>5040</td>\n",
       "      <td>http://ia.media-imdb.com/images/M/MV5BMTcxMDA4...</td>\n",
       "    </tr>\n",
       "    <tr>\n",
       "      <th>4997</th>\n",
       "      <td>À l'intérieur</td>\n",
       "      <td>2007</td>\n",
       "      <td>6.8</td>\n",
       "      <td>2839</td>\n",
       "      <td>['Horror', 'Thriller']</td>\n",
       "      <td>Four months after the death of her husband, a ...</td>\n",
       "      <td>['Alexandre Bustillo', 'Julien Maury']</td>\n",
       "      <td>['Alysson Paradis', 'Jean-Baptiste Tabourin', ...</td>\n",
       "      <td>2007-05-24</td>\n",
       "      <td>4920</td>\n",
       "      <td>http://ia.media-imdb.com/images/M/MV5BMjA2NDk4...</td>\n",
       "    </tr>\n",
       "    <tr>\n",
       "      <th>4998</th>\n",
       "      <td>Æon Flux</td>\n",
       "      <td>2005</td>\n",
       "      <td>5.4</td>\n",
       "      <td>1880</td>\n",
       "      <td>['Action', 'Sci-Fi']</td>\n",
       "      <td>Aeon Flux is a mysterious assassin working for...</td>\n",
       "      <td>['Karyn Kusama']</td>\n",
       "      <td>['Charlize Theron', 'Frances McDormand', 'Soph...</td>\n",
       "      <td>2005-12-01</td>\n",
       "      <td>5580</td>\n",
       "      <td>http://ia.media-imdb.com/images/M/MV5BMTc2Mzg0...</td>\n",
       "    </tr>\n",
       "    <tr>\n",
       "      <th>4999</th>\n",
       "      <td>Ôdishon</td>\n",
       "      <td>1999</td>\n",
       "      <td>7.2</td>\n",
       "      <td>3199</td>\n",
       "      <td>['Horror', 'Thriller']</td>\n",
       "      <td>A widower takes an offer to screen girls at a ...</td>\n",
       "      <td>['Takashi Miike']</td>\n",
       "      <td>['Ryo Ishibashi', 'Eihi Shiina', 'Tetsu Sawaki']</td>\n",
       "      <td>1999-10-06</td>\n",
       "      <td>6900</td>\n",
       "      <td>http://ia.media-imdb.com/images/M/MV5BMTQwNzQw...</td>\n",
       "    </tr>\n",
       "  </tbody>\n",
       "</table>\n",
       "</div>"
      ],
      "text/plain": [
       "                  title  year  rating  rank                           genres  \\\n",
       "4995  À bout de souffle  1960     7.9  3521               ['Crime', 'Drama']   \n",
       "4996     À bout portant  2010     6.8  4937  ['Action', 'Crime', 'Thriller']   \n",
       "4997      À l'intérieur  2007     6.8  2839           ['Horror', 'Thriller']   \n",
       "4998           Æon Flux  2005     5.4  1880             ['Action', 'Sci-Fi']   \n",
       "4999            Ôdishon  1999     7.2  3199           ['Horror', 'Thriller']   \n",
       "\n",
       "                                                   plot  \\\n",
       "4995  A young car thief kills a policeman and tries ...   \n",
       "4996                                                NaN   \n",
       "4997  Four months after the death of her husband, a ...   \n",
       "4998  Aeon Flux is a mysterious assassin working for...   \n",
       "4999  A widower takes an offer to screen girls at a ...   \n",
       "\n",
       "                                   directors  \\\n",
       "4995                     ['Jean-Luc Godard']   \n",
       "4996                         ['Fred Cavayé']   \n",
       "4997  ['Alexandre Bustillo', 'Julien Maury']   \n",
       "4998                        ['Karyn Kusama']   \n",
       "4999                       ['Takashi Miike']   \n",
       "\n",
       "                                                 actors release_date  \\\n",
       "4995  ['Jean-Paul Belmondo', 'Jean Seberg', 'Daniel ...   1960-03-16   \n",
       "4996  ['Gilles Lellouche', 'Roschdy Zem', 'Gérard La...   2010-11-04   \n",
       "4997  ['Alysson Paradis', 'Jean-Baptiste Tabourin', ...   2007-05-24   \n",
       "4998  ['Charlize Theron', 'Frances McDormand', 'Soph...   2005-12-01   \n",
       "4999   ['Ryo Ishibashi', 'Eihi Shiina', 'Tetsu Sawaki']   1999-10-06   \n",
       "\n",
       "      running_time_secs                                          image_url  \n",
       "4995               5400  http://ia.media-imdb.com/images/M/MV5BMTI4MDUw...  \n",
       "4996               5040  http://ia.media-imdb.com/images/M/MV5BMTcxMDA4...  \n",
       "4997               4920  http://ia.media-imdb.com/images/M/MV5BMjA2NDk4...  \n",
       "4998               5580  http://ia.media-imdb.com/images/M/MV5BMTc2Mzg0...  \n",
       "4999               6900  http://ia.media-imdb.com/images/M/MV5BMTQwNzQw...  "
      ]
     },
     "execution_count": 5,
     "metadata": {},
     "output_type": "execute_result"
    }
   ],
   "source": [
    "df5.tail()"
   ]
  },
  {
   "cell_type": "code",
   "execution_count": 6,
   "metadata": {},
   "outputs": [],
   "source": [
    "#Create list of dfs\n",
    "df_list = [df1,df2,df3,df4,df5]"
   ]
  },
  {
   "cell_type": "markdown",
   "metadata": {},
   "source": [
    "### elasticsearch mapping for movies"
   ]
  },
  {
   "cell_type": "code",
   "execution_count": 7,
   "metadata": {},
   "outputs": [],
   "source": [
    "#Universal Mapping\n",
    "#Create mapping\n",
    "mapping = '''\n",
    "{\n",
    "    \"settings\": {\n",
    "    \"index.mapping.ignore_malformed\": true \n",
    "    },\n",
    "    \"mappings\" : {\n",
    "      \"movie\" : {\n",
    "        \"dynamic\" : \"false\",\n",
    "        \"properties\" : {\n",
    "          \"title\" : {\n",
    "            \"type\" : \"text\",\n",
    "            \"fields\" : {\n",
    "              \"keyword\" : {\n",
    "                \"type\" : \"keyword\",\n",
    "                \"ignore_above\" : 256\n",
    "              }\n",
    "            }\n",
    "          },\n",
    "          \"release_date\" : {\n",
    "            \"type\" : \"date\",\n",
    "            \"format\" : \"YYYY-MM-dd\"\n",
    "          },\n",
    "          \"genres\" : {\n",
    "            \"type\" : \"text\",\n",
    "            \"fields\" : {\n",
    "              \"keyword\" : {\n",
    "                \"type\" : \"keyword\",\n",
    "                \"ignore_above\" : 256\n",
    "              }\n",
    "            }\n",
    "          },\n",
    "          \"plot\" : {\n",
    "            \"type\" : \"text\",\n",
    "            \"fields\" : {\n",
    "              \"keyword\" : {\n",
    "                \"type\" : \"keyword\",\n",
    "                \"ignore_above\" : 256\n",
    "              }\n",
    "            }\n",
    "          },\n",
    "          \"directors\" : {\n",
    "            \"type\" : \"text\",\n",
    "            \"fields\" : {\n",
    "              \"keyword\" : {\n",
    "                \"type\" : \"keyword\",\n",
    "                \"ignore_above\" : 256\n",
    "              }\n",
    "            }\n",
    "          },\n",
    "          \"actors\" : {\n",
    "            \"type\" : \"text\",\n",
    "            \"fields\" : {\n",
    "              \"keyword\" : {\n",
    "                \"type\" : \"keyword\",\n",
    "                \"ignore_above\" : 256\n",
    "              }\n",
    "             }\n",
    "           },\n",
    "           \"rating\" : {\n",
    "             \"type\" : \"float\"\n",
    "              },\n",
    "           \"year\" : {\n",
    "             \"type\" : \"integer\"\n",
    "           },\n",
    "            \"rank\" : {\n",
    "             \"type\" : \"integer\"\n",
    "           },\n",
    "           \"running_time_secs\" : {\n",
    "             \"type\" : \"integer\"\n",
    "           }, \n",
    "          \"image_url\" : {\n",
    "            \"type\" : \"text\",\n",
    "            \"fields\" : {\n",
    "              \"keyword\" : {\n",
    "                \"type\" : \"keyword\",\n",
    "                \"ignore_above\" : 256\n",
    "              }\n",
    "            }\n",
    "           }\n",
    "          }\n",
    "        }\n",
    "      }\n",
    "    }\n",
    "'''"
   ]
  },
  {
   "cell_type": "markdown",
   "metadata": {},
   "source": [
    "### Create elasticsearch connection"
   ]
  },
  {
   "cell_type": "code",
   "execution_count": null,
   "metadata": {},
   "outputs": [],
   "source": [
    "# Local Elasticsearch\n",
    "# Use this or else AWS blocks below\n",
    "# connects to port 9300 by default\n",
    "es = Elasticsearch()"
   ]
  },
  {
   "cell_type": "code",
   "execution_count": 9,
   "metadata": {},
   "outputs": [
    {
     "name": "stdout",
     "output_type": "stream",
     "text": [
      "{'name': 'MJtp04b', 'cluster_name': '634195893235:movies', 'cluster_uuid': 'ymqDfLcWQkGDXG-otApe-A', 'version': {'number': '6.3.1', 'build_flavor': 'oss', 'build_type': 'zip', 'build_hash': 'eb782d0', 'build_date': '2018-09-11T14:05:25.216906Z', 'build_snapshot': False, 'lucene_version': '7.3.1', 'minimum_wire_compatibility_version': '5.6.0', 'minimum_index_compatibility_version': '5.0.0'}, 'tagline': 'You Know, for Search'}\n"
     ]
    }
   ],
   "source": [
    "# AWS Elasticsearch\n",
    "# Don't run this if local version is being used\n",
    "# Authorization\n",
    "# If we have an open policy on AWS ES this block is not needed and http_auth must be commented out below\n",
    "region = 'us-west-2' \n",
    "service = 'es'\n",
    "#Credentials calls the user keys identified from aws-cli command aws configure\n",
    "credentials = boto3.Session().get_credentials()\n",
    "awsauth = AWS4Auth(credentials.access_key, credentials.secret_key, region, service, session_token=credentials.token)\n",
    "\n",
    "#Create ES Connection with AWS\n",
    "#AWS ES endpoint link\n",
    "host = 'put your aws elasticsearch endpoint here'\n",
    "\n",
    "es = Elasticsearch(\n",
    "    hosts=[{'host': host, 'port': 443}],\n",
    "    http_auth=awsauth,\n",
    "    use_ssl=True,\n",
    "    verify_certs=True,\n",
    "    connection_class=RequestsHttpConnection\n",
    ")\n",
    "print(es.info())"
   ]
  },
  {
   "cell_type": "markdown",
   "metadata": {},
   "source": [
    "## Check cluster and index "
   ]
  },
  {
   "cell_type": "code",
   "execution_count": 10,
   "metadata": {},
   "outputs": [
    {
     "data": {
      "text/plain": [
       "{'cluster_name': '634195893235:movies',\n",
       " 'status': 'yellow',\n",
       " 'timed_out': False,\n",
       " 'number_of_nodes': 1,\n",
       " 'number_of_data_nodes': 1,\n",
       " 'active_primary_shards': 31,\n",
       " 'active_shards': 31,\n",
       " 'relocating_shards': 0,\n",
       " 'initializing_shards': 0,\n",
       " 'unassigned_shards': 30,\n",
       " 'delayed_unassigned_shards': 0,\n",
       " 'number_of_pending_tasks': 0,\n",
       " 'number_of_in_flight_fetch': 0,\n",
       " 'task_max_waiting_in_queue_millis': 0,\n",
       " 'active_shards_percent_as_number': 50.81967213114754}"
      ]
     },
     "execution_count": 10,
     "metadata": {},
     "output_type": "execute_result"
    }
   ],
   "source": [
    "#Check Cluster Health\n",
    "es.cluster.health()"
   ]
  },
  {
   "cell_type": "code",
   "execution_count": 11,
   "metadata": {},
   "outputs": [
    {
     "data": {
      "text/plain": [
       "'yellow open df1     f9yaHDIhSpqrK1a_GGX6pQ 5 1 1000 0  1.2mb  1.2mb\\nyellow open df4     jnSJXJxJQKivv9eiivS9Tg 5 1 1000 0  1.3mb  1.3mb\\nyellow open df3     hMg5Tg_5T8mTEL0nhq7DEg 5 1 1000 0  1.2mb  1.2mb\\nyellow open df2     s29bB2JnQOi37AdW5HDbmg 5 1 1000 0  1.2mb  1.2mb\\nyellow open df5     FEr4PYfsR1G8lUYxGmwU9A 5 1 1000 0  1.4mb  1.4mb\\ngreen  open .kibana WbySMBDlS5qZ8rzIJPm96A 1 0    6 0 33.2kb 33.2kb\\nyellow open movies  LDYQOMNNQhOgpiJ2hsN6NQ 5 1 5000 0  5.4mb  5.4mb\\n'"
      ]
     },
     "execution_count": 11,
     "metadata": {},
     "output_type": "execute_result"
    }
   ],
   "source": [
    "# Index Info\n",
    "es.cat.indices()"
   ]
  },
  {
   "cell_type": "code",
   "execution_count": 15,
   "metadata": {},
   "outputs": [],
   "source": [
    "# Delete index if exists\n",
    "for i in range(1,6):\n",
    "    if es.indices.exists('df{}'.format(i)):\n",
    "        es.indices.delete(index='df{}'.format(i))"
   ]
  },
  {
   "cell_type": "code",
   "execution_count": 16,
   "metadata": {},
   "outputs": [
    {
     "data": {
      "text/plain": [
       "'green  open .kibana WbySMBDlS5qZ8rzIJPm96A 1 0    4 0 21.6kb 21.6kb\\nyellow open movies  LDYQOMNNQhOgpiJ2hsN6NQ 5 1 5000 0  5.4mb  5.4mb\\n'"
      ]
     },
     "execution_count": 16,
     "metadata": {},
     "output_type": "execute_result"
    }
   ],
   "source": [
    "# Index Info\n",
    "es.cat.indices()"
   ]
  },
  {
   "cell_type": "code",
   "execution_count": 17,
   "metadata": {},
   "outputs": [],
   "source": [
    "# Create new index w/ mapping\n",
    "for i in range(1,6):\n",
    "    es.indices.create(index='df{}'.format(i), ignore=400, body=mapping)"
   ]
  },
  {
   "cell_type": "code",
   "execution_count": 18,
   "metadata": {},
   "outputs": [
    {
     "data": {
      "text/plain": [
       "'yellow open df1     f9yaHDIhSpqrK1a_GGX6pQ 5 1    0 0   401b   401b\\nyellow open df4     jnSJXJxJQKivv9eiivS9Tg 5 1    0 0   631b   631b\\nyellow open df3     hMg5Tg_5T8mTEL0nhq7DEg 5 1    0 0   460b   460b\\nyellow open df2     s29bB2JnQOi37AdW5HDbmg 5 1    0 0   460b   460b\\nyellow open df5     FEr4PYfsR1G8lUYxGmwU9A 5 1    0 0   460b   460b\\ngreen  open .kibana WbySMBDlS5qZ8rzIJPm96A 1 0    4 0 21.6kb 21.6kb\\nyellow open movies  LDYQOMNNQhOgpiJ2hsN6NQ 5 1 5000 0  5.4mb  5.4mb\\n'"
      ]
     },
     "execution_count": 18,
     "metadata": {},
     "output_type": "execute_result"
    }
   ],
   "source": [
    "# Index Info\n",
    "es.cat.indices()"
   ]
  },
  {
   "cell_type": "code",
   "execution_count": 19,
   "metadata": {},
   "outputs": [
    {
     "data": {
      "application/vnd.jupyter.widget-view+json": {
       "model_id": "4c49ce30a37448448f99168746032d8a",
       "version_major": 2,
       "version_minor": 0
      },
      "text/plain": [
       "HBox(children=(IntProgress(value=0, max=5), HTML(value='')))"
      ]
     },
     "metadata": {},
     "output_type": "display_data"
    },
    {
     "data": {
      "application/vnd.jupyter.widget-view+json": {
       "model_id": "196059bf667d482bb7822ccf325333df",
       "version_major": 2,
       "version_minor": 0
      },
      "text/plain": [
       "HBox(children=(IntProgress(value=0, max=1000), HTML(value='')))"
      ]
     },
     "metadata": {},
     "output_type": "display_data"
    },
    {
     "data": {
      "application/vnd.jupyter.widget-view+json": {
       "model_id": "d744bbbbda8840999a1306b8ab9f1e72",
       "version_major": 2,
       "version_minor": 0
      },
      "text/plain": [
       "HBox(children=(IntProgress(value=0, max=1000), HTML(value='')))"
      ]
     },
     "metadata": {},
     "output_type": "display_data"
    },
    {
     "data": {
      "application/vnd.jupyter.widget-view+json": {
       "model_id": "e7603a68483c423dbd7511ed69803a8a",
       "version_major": 2,
       "version_minor": 0
      },
      "text/plain": [
       "HBox(children=(IntProgress(value=0, max=1000), HTML(value='')))"
      ]
     },
     "metadata": {},
     "output_type": "display_data"
    },
    {
     "data": {
      "application/vnd.jupyter.widget-view+json": {
       "model_id": "94fb9f3834b44c9689051a0a7d031304",
       "version_major": 2,
       "version_minor": 0
      },
      "text/plain": [
       "HBox(children=(IntProgress(value=0, max=1000), HTML(value='')))"
      ]
     },
     "metadata": {},
     "output_type": "display_data"
    },
    {
     "data": {
      "application/vnd.jupyter.widget-view+json": {
       "model_id": "4aaea88e814a46c797b1f4c377261733",
       "version_major": 2,
       "version_minor": 0
      },
      "text/plain": [
       "HBox(children=(IntProgress(value=0, max=1000), HTML(value='')))"
      ]
     },
     "metadata": {},
     "output_type": "display_data"
    },
    {
     "name": "stdout",
     "output_type": "stream",
     "text": [
      "\n"
     ]
    }
   ],
   "source": [
    "# build bulk index files\n",
    "for j in tqdm_notebook(range(1,6)):\n",
    "    for i in tqdm_notebook(range(len(df_list[j-1]))):\n",
    "        try:\n",
    "            actions = [\n",
    "                {\n",
    "                  \"_index\" : 'df{}'.format(j),\n",
    "                  \"_type\" : \"movie\",\n",
    "                  \"_id\" : i,\n",
    "                  \"_source\" : df_list[j-1].iloc[i].to_json(orient=\"index\")\n",
    "                }]\n",
    "            helpers.bulk(es, actions, raise_on_exception=False, request_timeout=30)  \n",
    "        except:\n",
    "            pass"
   ]
  },
  {
   "cell_type": "code",
   "execution_count": 22,
   "metadata": {},
   "outputs": [
    {
     "data": {
      "text/plain": [
       "'yellow open df1     f9yaHDIhSpqrK1a_GGX6pQ 5 1 1000 0  1.2mb  1.2mb\\nyellow open df4     jnSJXJxJQKivv9eiivS9Tg 5 1 1000 0  1.3mb  1.3mb\\nyellow open df3     hMg5Tg_5T8mTEL0nhq7DEg 5 1 1000 0  1.2mb  1.2mb\\nyellow open df2     s29bB2JnQOi37AdW5HDbmg 5 1 1000 0  1.2mb  1.2mb\\nyellow open df5     FEr4PYfsR1G8lUYxGmwU9A 5 1 1000 0  1.4mb  1.4mb\\ngreen  open .kibana WbySMBDlS5qZ8rzIJPm96A 1 0    5 0 27.6kb 27.6kb\\nyellow open movies  LDYQOMNNQhOgpiJ2hsN6NQ 5 1 5000 0  5.4mb  5.4mb\\n'"
      ]
     },
     "execution_count": 22,
     "metadata": {},
     "output_type": "execute_result"
    }
   ],
   "source": [
    "# Index Info\n",
    "es.cat.indices()"
   ]
  }
 ],
 "metadata": {
  "kernelspec": {
   "display_name": "Python 3",
   "language": "python",
   "name": "python3"
  },
  "language_info": {
   "codemirror_mode": {
    "name": "ipython",
    "version": 3
   },
   "file_extension": ".py",
   "mimetype": "text/x-python",
   "name": "python",
   "nbconvert_exporter": "python",
   "pygments_lexer": "ipython3",
   "version": "3.6.6"
  }
 },
 "nbformat": 4,
 "nbformat_minor": 2
}
